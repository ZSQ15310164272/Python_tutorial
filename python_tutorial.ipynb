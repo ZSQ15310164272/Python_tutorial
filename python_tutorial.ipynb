{
 "cells": [
  {
   "cell_type": "markdown",
   "metadata": {},
   "source": [
    "# Python踩坑笔记"
   ]
  },
  {
   "cell_type": "markdown",
   "metadata": {},
   "source": [
    "1 #Python的输入输出"
   ]
  },
  {
   "cell_type": "code",
   "execution_count": 74,
   "metadata": {},
   "outputs": [
    {
     "name": "stdout",
     "output_type": "stream",
     "text": [
      "Please input you favorite  programing languagepython\n",
      "Programing language is python\n"
     ]
    }
   ],
   "source": [
    "#name = input('Please input you favorite  programing language')\n",
    "#print('Programing language is %s' % name)"
   ]
  },
  {
   "cell_type": "markdown",
   "metadata": {},
   "source": [
    "2 #python 转义字符和默认非转义字符、多行内容表示"
   ]
  },
  {
   "cell_type": "code",
   "execution_count": 18,
   "metadata": {},
   "outputs": [
    {
     "name": "stdout",
     "output_type": "stream",
     "text": [
      "\\\t hello world\\\n",
      "\\\\\\t hello world\\\\\n",
      "line1\n",
      "line2\n",
      "line3\n"
     ]
    }
   ],
   "source": [
    "print('\\\\\\t hello world\\\\')\n",
    "print(r'\\\\\\t hello world\\\\')\n",
    "print('''line1\n",
    "line2\n",
    "line3''')"
   ]
  },
  {
   "cell_type": "markdown",
   "metadata": {},
   "source": [
    "3 #python 字符串和编码\n",
    "美国127个字符ASCII编码  中国制定GB2312编码 \n",
    "所有语言统一Unicode “可变长编码”的UTF-8编码"
   ]
  },
  {
   "cell_type": "code",
   "execution_count": 35,
   "metadata": {},
   "outputs": [
    {
     "name": "stdout",
     "output_type": "stream",
     "text": [
      "20013\n",
      "文\n",
      "中文\n"
     ]
    }
   ],
   "source": [
    "print(ord('中'))\n",
    "print(chr(25991))\n",
    "# 十六进制\n",
    "print('\\u4e2d\\u6587')"
   ]
  },
  {
   "cell_type": "markdown",
   "metadata": {},
   "source": [
    "4 #unicode的str和字节单位bytes,在bytes中，\n",
    "无法显示为ASCII字符的字节，用\\x##显示\n",
    "如果bytes中只有一小部分无效的字节，可以传入errors='ignore'忽略错误的字节"
   ]
  },
  {
   "cell_type": "code",
   "execution_count": 45,
   "metadata": {},
   "outputs": [
    {
     "name": "stdout",
     "output_type": "stream",
     "text": [
      "b'abc'\n",
      "b'\\xe4\\xbd\\xa0\\xe5\\xa5\\xbd'\n",
      "abc\n",
      "你好\n",
      "你好\n"
     ]
    }
   ],
   "source": [
    "print('abc'.encode('ascii'))\n",
    "print('你好'.encode('utf-8'))\n",
    "print(b'abc'.decode('ascii'))\n",
    "print(b'\\xe4\\xbd\\xa0\\xe5\\xa5\\xbd'.decode('utf-8'))\n",
    "print(b'\\xe4\\xbd\\xa0\\xe5\\xa5\\xbd'.decode('utf-8', errors='ignore'))"
   ]
  },
  {
   "cell_type": "markdown",
   "metadata": {},
   "source": [
    "5 常识点\n",
    "#!/usr/bin/env python3\n",
    "#-*- coding: utf-8 -*-\n",
    "第一行注释是为了告诉Linux/OS X系统，这是一个Python可执行程序，Windows系统会忽略这个注释；\n",
    "第二行注释是为了告诉Python解释器，按照UTF-8编码读取源代码，否则，你在源代码中写的中文输出可能会有乱码。"
   ]
  },
  {
   "cell_type": "markdown",
   "metadata": {},
   "source": [
    "6 占位符和format()"
   ]
  },
  {
   "cell_type": "code",
   "execution_count": 47,
   "metadata": {},
   "outputs": [
    {
     "name": "stdout",
     "output_type": "stream",
     "text": [
      "Hi, Michael, you have $1000000.\n",
      "Hello, 小明, 成绩提升了 17.1%\n"
     ]
    }
   ],
   "source": [
    "print('Hi, %s, you have $%d.' % ('Michael', 1000000))\n",
    "print('Hello, {0}, 成绩提升了 {1:.1f}%'.format('小明', 17.125))"
   ]
  },
  {
   "cell_type": "markdown",
   "metadata": {},
   "source": [
    "7 list方法\n",
    "tuple 指向不变性"
   ]
  },
  {
   "cell_type": "code",
   "execution_count": 52,
   "metadata": {},
   "outputs": [
    {
     "name": "stdout",
     "output_type": "stream",
     "text": [
      "['Michael', 'Bob', 'Tracy']\n",
      "(1,)\n",
      "1\n"
     ]
    }
   ],
   "source": [
    "classmates = ['Michael', 'Bob', 'Tracy']\n",
    "classmates.append('Adam')\n",
    "classmates.insert(1, 'Jack')\n",
    "classmates.pop(1)\n",
    "classmates.pop()\n",
    "print(classmates)\n",
    "t = (1,)\n",
    "t1 = (1)\n",
    "print(t)\n",
    "print(t1)"
   ]
  },
  {
   "cell_type": "markdown",
   "metadata": {},
   "source": [
    "8 dict方法 set方法\n",
    "dict的key必须是不可变对象"
   ]
  },
  {
   "cell_type": "markdown",
   "metadata": {},
   "source": [
    "set和dict的唯一区别仅在于没有存储对应的value，但是，set的原理和dict一样，所以，同样不可以放入可变对象，因为无法判断两个可变对象是否相等，也就无法保证set内部“不会有重复元素”。"
   ]
  },
  {
   "cell_type": "code",
   "execution_count": 55,
   "metadata": {},
   "outputs": [
    {
     "name": "stdout",
     "output_type": "stream",
     "text": [
      "95\n",
      "-1\n"
     ]
    }
   ],
   "source": [
    "d = {'Michael': 95, 'Bob': 75, 'Tracy': 85}\n",
    "print(d.get('Michael', -1))\n",
    "print(d.get('Jack', -1))\n",
    "d.pop('Bob')"
   ]
  },
  {
   "cell_type": "code",
   "execution_count": 57,
   "metadata": {},
   "outputs": [
    {
     "name": "stdout",
     "output_type": "stream",
     "text": [
      "{2, 3, 4}\n"
     ]
    }
   ],
   "source": [
    "s = set([1, 1, 2, 2, 3, 3])\n",
    "s.add(4)\n",
    "s.remove(1)\n",
    "print(s)"
   ]
  },
  {
   "cell_type": "markdown",
   "metadata": {},
   "source": [
    "9 #Python不可变对象"
   ]
  },
  {
   "cell_type": "code",
   "execution_count": 60,
   "metadata": {},
   "outputs": [
    {
     "name": "stdout",
     "output_type": "stream",
     "text": [
      "Abc\n",
      "bb is abc\n"
     ]
    }
   ],
   "source": [
    "bb = 'abc'\n",
    "print(bb.replace('a', 'A'))\n",
    "bb\n",
    "print('bb is %s' % bb)"
   ]
  },
  {
   "cell_type": "markdown",
   "metadata": {},
   "source": [
    "10 #python 函数"
   ]
  },
  {
   "cell_type": "markdown",
   "metadata": {},
   "source": [
    "(1) 函数名其实就是指向一个函数对象的引用，完全可以把函数名赋给一个变量\n",
    "(2) a = max\n",
    "    value = a([5,10,2])\n",
    "(3) 函数返回多值其实就是返回一个tuple"
   ]
  },
  {
   "cell_type": "markdown",
   "metadata": {},
   "source": [
    "11 #python 函数的参数"
   ]
  },
  {
   "cell_type": "code",
   "execution_count": 73,
   "metadata": {},
   "outputs": [
    {
     "name": "stdout",
     "output_type": "stream",
     "text": [
      "['END', 'END', 'END']\n",
      "['END']\n",
      "name: Adam age: 45 other: {'gender': 'M', 'job': 'Engineer'}\n",
      "None\n",
      "name: Jack age: 24 other: {'city': 'Beijing', 'job': 'Engineer'}\n",
      "None\n",
      "Jack 24 Beijing Engineer\n",
      "None\n",
      "a = 1 b = 2 c = 3 args = (4,) kw = {'d': 99, 'x': '#'}\n",
      "None\n",
      "a = 1 b = 2 c = 3 d = 88 kw = {'x': '#'}\n",
      "None\n"
     ]
    }
   ],
   "source": [
    "## 位置参数\n",
    "def power(x, n):\n",
    "    pass\n",
    "## 默认参数\n",
    "# 必选参数必须在前，默认参数在后\n",
    "# 当函数有多个参数时，把变化大的参数放前面\n",
    "# 变化小的参数放后面。变化小的参数就可以作为默认参数。\n",
    "def power(x, n=2):\n",
    "    pass\n",
    "\n",
    "# 定义默认参数要牢记一点：默认参数必须指向不变对象！\n",
    "def add_end(L=[]):\n",
    "    L.append('END')\n",
    "    return L\n",
    "\n",
    "# Python函数在定义的时候，默认参数L的值就被计算出来了，即[]，\n",
    "# 因为默认参数L也是一个变量，它指向对象[]，每次调用该函数，如\n",
    "# 果改变了L的内容，则下次调用时，默认参数的内容就变了，不再是\n",
    "# 函数定义时的[]了。\n",
    "add_end()\n",
    "add_end()\n",
    "print(add_end())\n",
    "\n",
    "def add_end(L=None):\n",
    "    if L is None:\n",
    "        L = []\n",
    "    L.append('END')\n",
    "    return L\n",
    "\n",
    "add_end()\n",
    "add_end()\n",
    "print(add_end())\n",
    "\n",
    "## 可变参数\n",
    "def calc(*numbers):\n",
    "    pass\n",
    "\n",
    "calc(1, 2,3)\n",
    "nums = [1, 2, 3]\n",
    "calc(*nums)\n",
    "\n",
    "## 关键词参数\n",
    "def person(name, age, **kw):\n",
    "    print('name:', name, 'age:', age, 'other:', kw)\n",
    "    \n",
    "print(person('Adam', 45, gender='M', job='Engineer'))\n",
    "# person('Adam', 45, gender='M', job='Engineer')\n",
    "extra = {'city': 'Beijing', 'job': 'Engineer'}\n",
    "print(person('Jack', 24, **extra))\n",
    "\n",
    "## 命名关键字参数\n",
    "def person(name, age, *, city, job):\n",
    "    print(name, age, city, job)\n",
    "\n",
    "print(person('Jack', 24, city='Beijing', job='Engineer'))\n",
    "\n",
    "# 如果函数定义中已经有了一个可变参数，后面跟着的命名关键\n",
    "# 字参数就不再需要一个特殊分隔符*了\n",
    "def person(name, age, *args, city, job):\n",
    "    print(name, age, args, city, job)\n",
    "\n",
    "## 参数组合\n",
    "# 参数定义的顺序必须是：必选参数、默认参数、可变参数、命名\n",
    "# 关键字参数和关键字参数。\n",
    "def f1(a, b, c=0, *args, **kw):\n",
    "    print('a =', a, 'b =', b, 'c =', c, 'args =', args, 'kw =', kw)\n",
    "\n",
    "def f2(a, b, c=0, *, d, **kw):\n",
    "    print('a =', a, 'b =', b, 'c =', c, 'd =', d, 'kw =', kw)\n",
    "\n",
    "# 对于任意函数，都可以通过类似func(*args, **kw)的形式调用它，\n",
    "# 无论它的参数是如何定义的。\n",
    "args = (1, 2, 3, 4)\n",
    "kw = {'d': 99, 'x': '#'}\n",
    "print(f1(*args, **kw))\n",
    "args = (1, 2, 3)\n",
    "kw = {'d': 88, 'x': '#'}\n",
    "print(f2(*args, **kw))\n",
    "\n",
    "# 默认参数一定要用不可变对象，如果是可变对象，程序运行时会有逻辑错误！\n",
    "\n",
    "# 要注意定义可变参数和关键字参数的语法：\n",
    "\n",
    "# *args是可变参数，args接收的是一个tuple；\n",
    "\n",
    "# **kw是关键字参数，kw接收的是一个dict。"
   ]
  },
  {
   "cell_type": "markdown",
   "metadata": {},
   "source": [
    "12 #Python 递归和尾递归"
   ]
  },
  {
   "cell_type": "code",
   "execution_count": 76,
   "metadata": {},
   "outputs": [
    {
     "name": "stdout",
     "output_type": "stream",
     "text": [
      "move A --> B\n",
      "move A --> C\n",
      "move B --> C\n",
      "move A --> B\n",
      "move C --> A\n",
      "move C --> B\n",
      "move A --> B\n",
      "move A --> C\n",
      "move B --> C\n",
      "move B --> A\n",
      "move C --> A\n",
      "move B --> C\n",
      "move A --> B\n",
      "move A --> C\n",
      "move B --> C\n"
     ]
    }
   ],
   "source": [
    "# 使用递归函数的优点是逻辑简单清晰，缺点是过深的调用会导致栈溢出。\n",
    "# 针对尾递归优化的语言可以通过尾递归防止栈溢出。尾递归事实上和循环\n",
    "# 是等价的，没有循环语句的编程语言只能通过尾递归实现循环。\n",
    "# Python标准的解释器没有针对尾递归做优化，任何递归函数都存在栈溢出\n",
    "# 的问题。\n",
    "\n",
    "# 递归\n",
    "def fact(n):\n",
    "    if n==1:\n",
    "        return 1\n",
    "    return n * fact(n - 1)\n",
    "\n",
    "# 尾递归\n",
    "def fact(n):\n",
    "    return fact_iter(n, 1)\n",
    "\n",
    "def fact_iter(num, product):\n",
    "    if num == 1:\n",
    "        return product\n",
    "    return fact_iter(num - 1, num * product)\n",
    "\n",
    "## 经典汉诺塔移动问题\n",
    "# 利用递归函数移动汉诺塔:\n",
    "def move(n, a, b, c):\n",
    "    if n == 1:\n",
    "        print('move', a, '-->', c)\n",
    "    else:\n",
    "        move(n-1, a, c, b)\n",
    "        move(1, a, b, c)\n",
    "        move(n-1, b, a, c)\n",
    "\n",
    "move(4, 'A', 'B', 'C')"
   ]
  },
  {
   "cell_type": "markdown",
   "metadata": {},
   "source": [
    "13 #Python精简"
   ]
  },
  {
   "cell_type": "code",
   "execution_count": 2,
   "metadata": {},
   "outputs": [
    {
     "name": "stdout",
     "output_type": "stream",
     "text": [
      "['Michael', 'Sarah', 'Tracy']\n",
      "['Bob']\n",
      "['Bob', 'Jack']\n",
      "[0, 1, 2]\n",
      "[0, 5]\n",
      "[0, 20, 40, 60, 80]\n",
      "0 A\n",
      "1 B\n",
      "2 C\n",
      "g: 1\n",
      "g: 1\n",
      "g: 2\n",
      "g: 3\n",
      "g: 5\n",
      "Generator return value: done\n"
     ]
    }
   ],
   "source": [
    "## slic\n",
    "L = ['Michael', 'Sarah', 'Tracy', 'Bob', 'Jack']\n",
    "print(L[:3])\n",
    "print(L[-2:-1])\n",
    "print(L[-2:])\n",
    "L = list(range(100))\n",
    "print(L[:3])\n",
    "print(L[:10:5])\n",
    "print(L[::20])\n",
    "\n",
    "## Iteration\n",
    "d = {'a': 1, 'b': 2, 'c': 3}\n",
    "for key in d:\n",
    "    pass\n",
    "for value in d.values():\n",
    "    pass\n",
    "for k, v in d.items():\n",
    "    pass\n",
    "\n",
    "## 判断是否是可迭代对象\n",
    "from collections import Iterable\n",
    "isinstance('abc', Iterable) # str是否可迭代\n",
    "\n",
    "## 下标索引\n",
    "for i, value in enumerate(['A', 'B', 'C']):\n",
    "    print(i, value)\n",
    "\n",
    "## List Comprehensions\n",
    "[x * x for x in range(1, 11) if x % 2 == 0]\n",
    "[m + n for m in 'ABC' for n in 'XYZ']\n",
    "import os\n",
    "[d for d in os.listdir('.')]\n",
    "L1 = ['Hello', 'World', 18, 'IBM', 'Apple']\n",
    "L2 = [s.lower() for s in L1 if isinstance(s, str)]\n",
    "\n",
    "## generator\n",
    "# 列表生成式的[]改成()，就创建了一个generator\n",
    "g = (x * x for x in range(10)) # next取元素\n",
    "for n in g:\n",
    "    pass\n",
    "\n",
    "## 斐波拉契数列\n",
    "def fib(max):\n",
    "    n, a, b = 0, 0, 1\n",
    "    while n < max:\n",
    "        yield b\n",
    "        a, b = b, a + b\n",
    "        n = n + 1\n",
    "    return 'done'\n",
    "\n",
    "# 函数定义中包含yield关键字，那么这个函数就不再是一个普通函数\n",
    "# 而是一个generator\n",
    "g = fib(5)\n",
    "while True:\n",
    "    try:\n",
    "        x = next(g)\n",
    "        print('g:', x)\n",
    "    except StopIteration as e:\n",
    "        print('Generator return value:', e.value)\n",
    "        break\n",
    "        \n",
    "## Iterable的对象和Iterator区别\n",
    "# 可以直接作用于for循环的对象统称为可迭代对象：Iterable\n",
    "# 可以被next()函数调用并不断返回下一个值的对象称为迭代器：Iterator\n",
    "from collections import Iterator\n",
    "isinstance([], Iterable)\n",
    "\n",
    "from collections import Iterator\n",
    "isinstance((x for x in range(10)), Iterator)\n",
    "# 生成器都是Iterator对象，但list、dict、str虽然是Iterable，却不是Iterator。\n",
    "# 把list、dict、str等Iterable变成Iterator可以使用iter()函数\n",
    "isinstance(iter([]), Iterator)\n",
    "\n",
    "# Python的for循环本质上就是通过不断调用next()函数实现的\n",
    "for x in [1, 2, 3, 4, 5]:\n",
    "    pass\n",
    "\n",
    "# 首先获得Iterator对象:\n",
    "it = iter([1, 2, 3, 4, 5])\n",
    "# 循环:\n",
    "while True:\n",
    "    try:\n",
    "        # 获得下一个值:\n",
    "        x = next(it)\n",
    "    except StopIteration:\n",
    "        # 遇到StopIteration就退出循环\n",
    "        break"
   ]
  },
  {
   "cell_type": "markdown",
   "metadata": {},
   "source": [
    "14 #python函数式编程\n",
    "#函数式编程就是一种抽象程度很高的编程范式，纯粹的函数式编程语言编写的函数没有变量"
   ]
  },
  {
   "cell_type": "code",
   "execution_count": 1,
   "metadata": {},
   "outputs": [
    {
     "name": "stdout",
     "output_type": "stream",
     "text": [
      "call now():\n",
      "2018-3-5\n",
      "execute now():\n",
      "2015-3-25\n",
      "execute wrapper():\n",
      "execute now():\n",
      "2015-3-25\n"
     ]
    }
   ],
   "source": [
    "## 高阶函数\n",
    "# 既然变量可以指向函数，函数的参数能接收变量，那么一个函数就可以接收\n",
    "# 另一个函数作为参数，这种函数就称之为高阶函数。\n",
    "def add(x, y, f):\n",
    "    return f(x) + f(y)\n",
    "\n",
    "# 把函数作为参数传入，这样的函数称为高阶函数，函数式编程就是指这种高度抽象的编程范式。\n",
    "\n",
    "## map和reduce\n",
    "# map()函数接收两个参数，一个是函数，一个是Iterable，map将传入的函数依次作用到序列的每个\n",
    "# 元素，并把结果作为新的Iterator返回\n",
    "def f(x):\n",
    "    return x*x\n",
    "r = map(f, [1, 2, 3, 4, 5, 6, 7, 8, 9])\n",
    "list(r)\n",
    "# reduce把一个函数作用在一个序列[x1, x2, x3, ...]上，这个函数必须接收两个参数，reduce把结\n",
    "# 果继续和序列的下一个元素做累积计算\n",
    "# reduce(f, [x1, x2, x3, x4]) = f(f(f(x1, x2), x3), x4)\n",
    "from functools import reduce\n",
    "DIGITS = {'0': 0, '1': 1, '2': 2, '3': 3, '4': 4, '5': 5, '6': 6, '7': 7, '8': 8, '9': 9}\n",
    "def char2num(s):\n",
    "    return DIGITS[s]\n",
    "def str2int(s):\n",
    "    return reduce(lambda x, y: x * 10 + y, map(char2num, s))\n",
    "str2int('1222')\n",
    "\n",
    "from functools import reduce\n",
    "def str2float(s):\n",
    "    int_part, dec_part = s.split('.')\n",
    "    return reduce(lambda x, y: 10*x+y, map(int, int_part)) + \\\n",
    "           reduce(lambda x, y: 10*x+y, map(int, dec_part))*10**(-len(dec_part))\n",
    "str2float('123.456')\n",
    "\n",
    "## filter\n",
    "# filter()也接收一个函数和一个序列。filter()把传入的函数依次作用于\n",
    "# 每个元素，然后根据返回值是True还是False决定保留还是丢弃该元素。\n",
    "def is_odd(n):\n",
    "    return n % 2 == 1\n",
    "\n",
    "list(filter(is_odd, [1, 2, 4, 5, 6, 9, 10, 15]))\n",
    "\n",
    "## sorted\n",
    "sorted([36, 5, -12, 9, -21], key=abs)\n",
    "sorted(['bob', 'about', 'Zoo', 'Credit'], key=str.lower, reverse=True)\n",
    "\n",
    "## 返回函数\n",
    "# 高阶函数除了可以接受函数作为参数外，还可以把函数作为结果值返回\n",
    "# “闭包（Closure）”的程序结构\n",
    "def lazy_sum(*args):\n",
    "    def sum():\n",
    "        ax = 0\n",
    "        for n in args:\n",
    "            ax = ax + n\n",
    "        return ax\n",
    "    return sum\n",
    "f = lazy_sum(1, 3, 5, 7, 9)\n",
    "# 正式计算求和结果\n",
    "f()\n",
    "f1 = lazy_sum(1, 3, 5, 7, 9)\n",
    "f2 = lazy_sum(1, 3, 5, 7, 9)\n",
    "f1==f2 # -> False\n",
    "\n",
    "# 闭包note\n",
    "def count():\n",
    "    fs = []\n",
    "    for i in range(1, 4):\n",
    "        def f():\n",
    "             return i*i\n",
    "        fs.append(f)\n",
    "    return fs\n",
    "\n",
    "f1, f2, f3 = count() # f1()=f2()=f3()=9\n",
    "f1(), f2(), f3()\n",
    "# 原因就在于返回的函数引用了变量i，但它并非立刻执行。等到3个函数都\n",
    "# 返回时，它们所引用的变量i已经变成了3，因此最终结果为9。\n",
    "# 返回闭包时牢记一点：返回函数不要引用任何循环变量，或者后续会发生变化的变量。\n",
    "\n",
    "# 用该函数的参数绑定循环变量当前的值，无论该循环变量后续如何更改，已绑定到函\n",
    "# 数参数的值不变\n",
    "def count():\n",
    "    def f(j):\n",
    "        def g():\n",
    "            return j*j\n",
    "        return g\n",
    "    fs = []\n",
    "    for i in range(1, 4):\n",
    "        fs.append(f(i)) # f(i)立刻被执行，因此i的当前值被传入f()\n",
    "    return fs\n",
    "f1, f2, f3 = count()\n",
    "# f1(),f2(),f3() --> 1,4,9\n",
    "\n",
    "# 计数器 \n",
    "# nonlocal\n",
    "def createCounter():\n",
    "    count = 0\n",
    "    def counter():\n",
    "        nonlocal count\n",
    "        count  = count + 1\n",
    "        return count \n",
    "    return counter\n",
    "# 可变list\n",
    "def createCounter():\n",
    "    n = [0]\n",
    "    def counter():\n",
    "        n[0] += 1\n",
    "        return n[0]\n",
    "    return counter\n",
    "\n",
    "## 匿名函数\n",
    "# 关键字lambda表示匿名函数\n",
    "f = lambda x: x * x\n",
    "def build(x, y):\n",
    "    return lambda: x * x + y * y\n",
    "# Python对匿名函数的支持有限，只有一些简单的情况下可以使用匿名函数。\n",
    "\n",
    "## 装饰器\n",
    "# 假设我们要增强now()函数的功能，比如，在函数调用前后自动打印日志，\n",
    "# 但又不希望修改now()函数的定义，这种在代码运行期间动态增加功能的方\n",
    "# 式，称之为“装饰器”（Decorator）。\n",
    "def log(func):\n",
    "    def wrapper(*args, **kw):\n",
    "        print('call %s():' % func.__name__)\n",
    "        return func(*args, **kw)\n",
    "    return wrapper\n",
    "# log其实就是一个装饰器\n",
    "@log\n",
    "def now():\n",
    "    print('2018-3-5')\n",
    "now()\n",
    "# 把@log放到now()函数的定义处，相当于执行了语句：\n",
    "now = log(now)\n",
    "# 由于log()是一个decorator，返回一个函数，所以，原来的now()函数仍然存\n",
    "# 在，只是现在同名的now变量指向了新的函数，于是调用now()将执行新函数，\n",
    "# 即在log()函数中返回的wrapper()函数。\n",
    "\n",
    "# 3层嵌套的decorator\n",
    "def log(text):\n",
    "    def decorator(func):\n",
    "        def wrapper(*args, **kw):\n",
    "            print('%s %s():' % (text, func.__name__))\n",
    "            return func(*args, **kw)\n",
    "        return wrapper\n",
    "    return decorator\n",
    "\n",
    "@log('execute')\n",
    "def now():\n",
    "    print('2015-3-25')\n",
    "now() # execute now(): 2015-3-25\n",
    "now = log('execute')(now)\n",
    "now()\n",
    "# 首先执行log('execute')，返回的是decorator函数，再调用返回的函数，参数\n",
    "# 是now函数，返回值最终是wrapper函数\n",
    "now.__name__ # -->'wrapper'\n",
    "# 要实现now.__name__ -> 'now',改代码\n",
    "import functools\n",
    "def log(text):\n",
    "    def decorator(func):\n",
    "        @functools.wraps(func)\n",
    "        def wrapper(*args, **kw):\n",
    "            print('%s %s():' % (text, func.__name__))\n",
    "            return func(*args, **kw)\n",
    "        return wrapper\n"
   ]
  },
  {
   "cell_type": "markdown",
   "metadata": {},
   "source": [
    "End coding"
   ]
  }
 ],
 "metadata": {
  "kernelspec": {
   "display_name": "Python 3",
   "language": "python",
   "name": "python3"
  },
  "language_info": {
   "codemirror_mode": {
    "name": "ipython",
    "version": 3
   },
   "file_extension": ".py",
   "mimetype": "text/x-python",
   "name": "python",
   "nbconvert_exporter": "python",
   "pygments_lexer": "ipython3",
   "version": "3.5.4"
  }
 },
 "nbformat": 4,
 "nbformat_minor": 2
}
